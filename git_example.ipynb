{
 "cells": [
  {
   "cell_type": "code",
   "execution_count": 1,
   "id": "32a45e3d-f153-479b-a452-95f2d7903bb4",
   "metadata": {},
   "outputs": [],
   "source": [
    "import git"
   ]
  },
  {
   "cell_type": "code",
   "execution_count": 2,
   "id": "030f3e9f-d017-484b-aed0-9a53c0d81fbf",
   "metadata": {},
   "outputs": [],
   "source": [
    "repo = git.Repo('./flask.git')"
   ]
  },
  {
   "cell_type": "code",
   "execution_count": 3,
   "id": "d6600ffa-5bcc-4d33-a575-b17cd69873ab",
   "metadata": {},
   "outputs": [
    {
     "name": "stdout",
     "output_type": "stream",
     "text": [
      "Current branch: main\n",
      "All branches:\n",
      "0.12.x\n",
      "1.0.x\n",
      "1.1.x\n",
      "2.0.x\n",
      "2.1.x\n",
      "2.2.x\n",
      "2.3.x\n",
      "3.0.x\n",
      "main\n",
      "pre-commit-ci-update-config\n",
      "Recent commits:\n",
      "11c15ddfeb6edcb0978d3407ed972ae441013177\n",
      "224c639bf9f37b99bc66a879fbbc516f59857967\n",
      "f48802acbb2d9f29ed3e1bcc5206bd00176cc1e3\n",
      "b7278186c4e16c58a4dbd439eedf716146c19f53\n",
      "ccf125bf30102beedafb3ecef72376bfb6c90a4d\n",
      "Remote repositories:\n",
      "origin\n"
     ]
    }
   ],
   "source": [
    "current_branch = repo.active_branch\n",
    "print(\"Current branch:\", current_branch)\n",
    "\n",
    "all_branches = repo.branches\n",
    "print(\"All branches:\")\n",
    "for branch in all_branches:\n",
    "    print(branch)\n",
    "\n",
    "commits = list(repo.iter_commits())\n",
    "print(\"Recent commits:\")\n",
    "for commit in commits[:5]:\n",
    "    print(commit)\n",
    "\n",
    "if repo.is_dirty():\n",
    "    print(\"There are uncommitted changes.\")\n",
    "\n",
    "remotes = repo.remotes\n",
    "print(\"Remote repositories:\")\n",
    "for remote in remotes:\n",
    "    print(remote)\n"
   ]
  },
  {
   "cell_type": "code",
   "execution_count": 4,
   "id": "0f2594f4-c2c8-451e-9f09-3e97f7fca8e8",
   "metadata": {},
   "outputs": [
    {
     "name": "stdout",
     "output_type": "stream",
     "text": [
      "Looking in indexes: https://pypi.org/simple, https://pypi.ngc.nvidia.com\n",
      "Requirement already satisfied: tree-sitter-python in /usr/local/lib/python3.10/dist-packages (0.21.0)\n",
      "\u001b[33mWARNING: Running pip as the 'root' user can result in broken permissions and conflicting behaviour with the system package manager. It is recommended to use a virtual environment instead: https://pip.pypa.io/warnings/venv\u001b[0m\u001b[33m\n",
      "\u001b[0m"
     ]
    }
   ],
   "source": [
    "!pip install tree-sitter-python"
   ]
  },
  {
   "cell_type": "code",
   "execution_count": 6,
   "id": "d23b43e1-d997-4245-9ceb-df17e79dcdcf",
   "metadata": {},
   "outputs": [
    {
     "ename": "NameError",
     "evalue": "name 'code' is not defined",
     "output_type": "error",
     "traceback": [
      "\u001b[0;31m---------------------------------------------------------------------------\u001b[0m",
      "\u001b[0;31mNameError\u001b[0m                                 Traceback (most recent call last)",
      "Cell \u001b[0;32mIn[6], line 6\u001b[0m\n\u001b[1;32m      4\u001b[0m parser \u001b[38;5;241m=\u001b[39m Parser()\n\u001b[1;32m      5\u001b[0m parser\u001b[38;5;241m.\u001b[39mset_language(PY_LANGUAGE)\n\u001b[0;32m----> 6\u001b[0m tree \u001b[38;5;241m=\u001b[39m parser\u001b[38;5;241m.\u001b[39mparse(\u001b[43mcode\u001b[49m)\n",
      "\u001b[0;31mNameError\u001b[0m: name 'code' is not defined"
     ]
    }
   ],
   "source": [
    "import tree_sitter_python as tspython\n",
    "from tree_sitter import Language, Parser\n",
    "PY_LANGUAGE = Language(tspython.language(), \"python\")\n",
    "parser = Parser()\n",
    "parser.set_language(PY_LANGUAGE)\n",
    "tree = parser.parse(code)"
   ]
  },
  {
   "cell_type": "code",
   "execution_count": null,
   "id": "a9be8182-c011-4626-b6aa-ff2830f0f68e",
   "metadata": {},
   "outputs": [],
   "source": []
  }
 ],
 "metadata": {
  "kernelspec": {
   "display_name": "Python 3 (ipykernel)",
   "language": "python",
   "name": "python3"
  },
  "language_info": {
   "codemirror_mode": {
    "name": "ipython",
    "version": 3
   },
   "file_extension": ".py",
   "mimetype": "text/x-python",
   "name": "python",
   "nbconvert_exporter": "python",
   "pygments_lexer": "ipython3",
   "version": "3.10.12"
  }
 },
 "nbformat": 4,
 "nbformat_minor": 5
}
